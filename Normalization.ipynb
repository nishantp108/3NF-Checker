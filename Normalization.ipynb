{
 "cells": [
  {
   "cell_type": "code",
   "execution_count": null,
   "metadata": {},
   "outputs": [
    {
     "ename": "",
     "evalue": "",
     "output_type": "error",
     "traceback": [
      "\u001b[1;31mRunning cells with 'c:\\Users\\nisha\\AppData\\Local\\Programs\\Python\\Python39\\python.exe' requires the ipykernel package.\n",
      "\u001b[1;31mRun the following command to install 'ipykernel' into the Python environment. \n",
      "\u001b[1;31mCommand: 'c:/Users/nisha/AppData/Local/Programs/Python/Python39/python.exe -m pip install ipykernel -U --user --force-reinstall'"
     ]
    }
   ],
   "source": [
    "from itertools import chain, combinations"
   ]
  },
  {
   "cell_type": "code",
   "execution_count": null,
   "metadata": {},
   "outputs": [
    {
     "ename": "",
     "evalue": "",
     "output_type": "error",
     "traceback": [
      "\u001b[1;31mRunning cells with 'c:\\Users\\nisha\\AppData\\Local\\Programs\\Python\\Python39\\python.exe' requires the ipykernel package.\n",
      "\u001b[1;31mRun the following command to install 'ipykernel' into the Python environment. \n",
      "\u001b[1;31mCommand: 'c:/Users/nisha/AppData/Local/Programs/Python/Python39/python.exe -m pip install ipykernel -U --user --force-reinstall'"
     ]
    }
   ],
   "source": [
    "def verify1NF():\n",
    "    file = open(\"data.txt\",\"r\")\n",
    "    fread = file.read()\n",
    "    splitedData = fread.split(\"|\")\n",
    "    \n",
    "    count = 0\n",
    "    temp_lst = []\n",
    "    for i in splitedData:\n",
    "        if(i.count(\",\")):\n",
    "            count += 1\n",
    "            temp_lst.append(i)\n",
    "    file.close()\n",
    "    \n",
    "    if (count == 0):\n",
    "        return True, temp_lst\n",
    "    else:\n",
    "        return False, temp_lst\n",
    "    file.close()"
   ]
  },
  {
   "cell_type": "code",
   "execution_count": null,
   "metadata": {},
   "outputs": [
    {
     "ename": "",
     "evalue": "",
     "output_type": "error",
     "traceback": [
      "\u001b[1;31mRunning cells with 'c:\\Users\\nisha\\AppData\\Local\\Programs\\Python\\Python39\\python.exe' requires the ipykernel package.\n",
      "\u001b[1;31mRun the following command to install 'ipykernel' into the Python environment. \n",
      "\u001b[1;31mCommand: 'c:/Users/nisha/AppData/Local/Programs/Python/Python39/python.exe -m pip install ipykernel -U --user --force-reinstall'"
     ]
    }
   ],
   "source": [
    "def MainCode():\n",
    "    \n",
    "    f1 = open(\"test.txt\",'r')\n",
    "    lines = []\n",
    "    fread1=f1.readline()\n",
    "    #print(fread1)\n",
    "#     for l in sys.stdin:\n",
    "#         if l.strip() != \"\":\n",
    "#             lines.append(l.strip())\n",
    "\n",
    "    fr1 = f1.readlines()[1:]\n",
    "    st1 = \"\"\n",
    "    st1 = st1.join(fr1)\n",
    "    st1 = st1.split(\"\\n\")\n",
    "    \n",
    "    FDS = []\n",
    "    for i in st1:\n",
    "        lhs = i.split('->')[0]\n",
    "        rhs = i.split('->')[1]\n",
    "        lhs = set([ x.strip() for x in lhs.split(',')])\n",
    "        rhs = set([ x.strip() for x in rhs.split(',')])\n",
    "\n",
    "        FD = (lhs, rhs)\n",
    "        FDS.append( FD )\n",
    "    f1.close()\n",
    "    \n",
    "    return FDS"
   ]
  },
  {
   "cell_type": "code",
   "execution_count": null,
   "metadata": {},
   "outputs": [
    {
     "ename": "",
     "evalue": "",
     "output_type": "error",
     "traceback": [
      "\u001b[1;31mRunning cells with 'c:\\Users\\nisha\\AppData\\Local\\Programs\\Python\\Python39\\python.exe' requires the ipykernel package.\n",
      "\u001b[1;31mRun the following command to install 'ipykernel' into the Python environment. \n",
      "\u001b[1;31mCommand: 'c:/Users/nisha/AppData/Local/Programs/Python/Python39/python.exe -m pip install ipykernel -U --user --force-reinstall'"
     ]
    }
   ],
   "source": [
    "def getRelations():\n",
    "    f2 = open(\"test.txt\",'r')\n",
    "    fr = f2.readline()\n",
    "    data = list(fr.split(\"\\n\")[0])\n",
    "    ans = data[3 : len(data)-2]\n",
    "    i=0\n",
    "    while (i != len(ans)-1):\n",
    "        if (i % 2 != 0):\n",
    "            ans.remove(',')\n",
    "        i = i + 1\n",
    "    f2.close()\n",
    "    return set(ans)"
   ]
  },
  {
   "cell_type": "code",
   "execution_count": null,
   "metadata": {},
   "outputs": [
    {
     "ename": "",
     "evalue": "",
     "output_type": "error",
     "traceback": [
      "\u001b[1;31mRunning cells with 'c:\\Users\\nisha\\AppData\\Local\\Programs\\Python\\Python39\\python.exe' requires the ipykernel package.\n",
      "\u001b[1;31mRun the following command to install 'ipykernel' into the Python environment. \n",
      "\u001b[1;31mCommand: 'c:/Users/nisha/AppData/Local/Programs/Python/Python39/python.exe -m pip install ipykernel -U --user --force-reinstall'"
     ]
    }
   ],
   "source": [
    "def getAttributeClosure(X, FDS):\n",
    "    '''\n",
    "    Computes the attribute colsure given a set of attribute and functional dependencies.\n",
    "    X: key attributes\n",
    "    FDS: list of functional dependencies\n",
    "    '''\n",
    "    retval = set(X)\n",
    "\n",
    "    breaks = False\n",
    "\n",
    "    while not breaks:\n",
    "        breaks = True\n",
    "        for fd in FDS:\n",
    "            lhs = fd[0]\n",
    "            rhs = fd[1]\n",
    "\n",
    "            if lhs.issubset(retval) and not rhs.issubset(retval):\n",
    "                breaks = False\n",
    "                retval.update(rhs)\n",
    "\n",
    "    return retval"
   ]
  },
  {
   "cell_type": "code",
   "execution_count": null,
   "metadata": {},
   "outputs": [
    {
     "ename": "",
     "evalue": "",
     "output_type": "error",
     "traceback": [
      "\u001b[1;31mRunning cells with 'c:\\Users\\nisha\\AppData\\Local\\Programs\\Python\\Python39\\python.exe' requires the ipykernel package.\n",
      "\u001b[1;31mRun the following command to install 'ipykernel' into the Python environment. \n",
      "\u001b[1;31mCommand: 'c:/Users/nisha/AppData/Local/Programs/Python/Python39/python.exe -m pip install ipykernel -U --user --force-reinstall'"
     ]
    }
   ],
   "source": [
    "def fetchCK():\n",
    "    f2 = open(\"test.txt\",\"r\")\n",
    "    temp1 = f2.readlines()\n",
    "    ck = temp1[1].split(\":-\")\n",
    "    f2.close()\n",
    "    return ck[1].split(\"\\n\")"
   ]
  },
  {
   "cell_type": "code",
   "execution_count": null,
   "metadata": {},
   "outputs": [
    {
     "ename": "",
     "evalue": "",
     "output_type": "error",
     "traceback": [
      "\u001b[1;31mRunning cells with 'c:\\Users\\nisha\\AppData\\Local\\Programs\\Python\\Python39\\python.exe' requires the ipykernel package.\n",
      "\u001b[1;31mRun the following command to install 'ipykernel' into the Python environment. \n",
      "\u001b[1;31mCommand: 'c:/Users/nisha/AppData/Local/Programs/Python/Python39/python.exe -m pip install ipykernel -U --user --force-reinstall'"
     ]
    }
   ],
   "source": [
    "def getSuperKeys(R, FDS):\n",
    "    '''\n",
    "    Computes the super keys\n",
    "    '''\n",
    "    s = list(R)\n",
    "    subsets = chain.from_iterable(combinations(s, r) for r in range(len(s)+1))\n",
    "\n",
    "    supers = []\n",
    "\n",
    "    for subset in subsets:\n",
    "        closure = getAttributeClosure(set(subset), FDS)\n",
    "        if closure == R:\n",
    "            supers.append( set(subset) )\n",
    "\n",
    "    return supers"
   ]
  },
  {
   "cell_type": "code",
   "execution_count": null,
   "metadata": {},
   "outputs": [
    {
     "ename": "",
     "evalue": "",
     "output_type": "error",
     "traceback": [
      "\u001b[1;31mRunning cells with 'c:\\Users\\nisha\\AppData\\Local\\Programs\\Python\\Python39\\python.exe' requires the ipykernel package.\n",
      "\u001b[1;31mRun the following command to install 'ipykernel' into the Python environment. \n",
      "\u001b[1;31mCommand: 'c:/Users/nisha/AppData/Local/Programs/Python/Python39/python.exe -m pip install ipykernel -U --user --force-reinstall'"
     ]
    }
   ],
   "source": [
    "def getPrimeAttributes(FDS, CK):\n",
    "    '''\n",
    "    Computes the prime attributes, given a relation and functional dependencies\n",
    "    '''\n",
    "    retset = set([])\n",
    "\n",
    "    candidates = CK\n",
    "    for key in candidates:\n",
    "        for a in key:\n",
    "            retset.add( a )\n",
    "    return retset"
   ]
  },
  {
   "cell_type": "code",
   "execution_count": null,
   "metadata": {},
   "outputs": [
    {
     "ename": "",
     "evalue": "",
     "output_type": "error",
     "traceback": [
      "\u001b[1;31mRunning cells with 'c:\\Users\\nisha\\AppData\\Local\\Programs\\Python\\Python39\\python.exe' requires the ipykernel package.\n",
      "\u001b[1;31mRun the following command to install 'ipykernel' into the Python environment. \n",
      "\u001b[1;31mCommand: 'c:/Users/nisha/AppData/Local/Programs/Python/Python39/python.exe -m pip install ipykernel -U --user --force-reinstall'"
     ]
    }
   ],
   "source": [
    "def getNonPrimeAttributes(R, FDS, CK):\n",
    "    '''\n",
    "    Computes the prime attributes, given a relation and functional dependencies\n",
    "    '''\n",
    "    primes = getPrimeAttributes(FDS, CK)\n",
    "    return set(R) - set(primes)"
   ]
  },
  {
   "cell_type": "code",
   "execution_count": null,
   "metadata": {},
   "outputs": [
    {
     "ename": "",
     "evalue": "",
     "output_type": "error",
     "traceback": [
      "\u001b[1;31mRunning cells with 'c:\\Users\\nisha\\AppData\\Local\\Programs\\Python\\Python39\\python.exe' requires the ipykernel package.\n",
      "\u001b[1;31mRun the following command to install 'ipykernel' into the Python environment. \n",
      "\u001b[1;31mCommand: 'c:/Users/nisha/AppData/Local/Programs/Python/Python39/python.exe -m pip install ipykernel -U --user --force-reinstall'"
     ]
    }
   ],
   "source": [
    "def is2NF(FDS, CK):\n",
    "    R = getRelations()\n",
    "    candidates = CK\n",
    "    primes = getPrimeAttributes(FDS, candidates)\n",
    "    non_primes = getNonPrimeAttributes(R, FDS, candidates)\n",
    "\n",
    "    for FD in FDS:\n",
    "        rhs = FD[1]\n",
    "        lhs = FD[0]\n",
    "\n",
    "    for att,nonatt in zip(primes,non_primes):\n",
    "        if (nonatt in rhs and CK not in lhs) :\n",
    "            print(\"\\t\", lhs, \"->\", rhs, \"breaks 2NF requirements (\", lhs, \"is NOT Candidate Key )\")\n",
    "            return False\n",
    "\n",
    "    return True"
   ]
  },
  {
   "cell_type": "code",
   "execution_count": null,
   "metadata": {},
   "outputs": [
    {
     "ename": "",
     "evalue": "",
     "output_type": "error",
     "traceback": [
      "\u001b[1;31mRunning cells with 'c:\\Users\\nisha\\AppData\\Local\\Programs\\Python\\Python39\\python.exe' requires the ipykernel package.\n",
      "\u001b[1;31mRun the following command to install 'ipykernel' into the Python environment. \n",
      "\u001b[1;31mCommand: 'c:/Users/nisha/AppData/Local/Programs/Python/Python39/python.exe -m pip install ipykernel -U --user --force-reinstall'"
     ]
    }
   ],
   "source": [
    "def is3NF(FDS, CK):\n",
    "    '''\n",
    "    Checks if a relation is in 3NF\n",
    "    '''\n",
    "    R = getRelations()\n",
    "    superkeys = getSuperKeys(R, FDS)\n",
    "    primes = getPrimeAttributes(FDS, CK)\n",
    "    non_primes = getNonPrimeAttributes(R, FDS, CK)\n",
    "    \n",
    "    #print(f\"Super Keys : {superkeys[1]}, {type(superkeys)}\")\n",
    "    for FD in FDS:\n",
    "        rhs = FD[1]\n",
    "        lhs = FD[0]\n",
    "        \n",
    "        #print(lhs)\n",
    "        if lhs in superkeys:\n",
    "            continue\n",
    "\n",
    "        for patt,natt in zip(primes,non_primes):\n",
    "            if (natt in rhs and (CK or superkeys) not in lhs) or ( (natt in lhs) and (natt in rhs) ):\n",
    "                print(\"\\t\", lhs, \"->\", rhs, \"breaks 3NF requirements (\", natt, \"is non-prime )\")\n",
    "                return False\n",
    "\n",
    "    return True"
   ]
  },
  {
   "cell_type": "code",
   "execution_count": null,
   "metadata": {},
   "outputs": [
    {
     "ename": "",
     "evalue": "",
     "output_type": "error",
     "traceback": [
      "\u001b[1;31mRunning cells with 'c:\\Users\\nisha\\AppData\\Local\\Programs\\Python\\Python39\\python.exe' requires the ipykernel package.\n",
      "\u001b[1;31mRun the following command to install 'ipykernel' into the Python environment. \n",
      "\u001b[1;31mCommand: 'c:/Users/nisha/AppData/Local/Programs/Python/Python39/python.exe -m pip install ipykernel -U --user --force-reinstall'"
     ]
    }
   ],
   "source": [
    "def isBCNF(FDS, CK):\n",
    "    '''\n",
    "    Checks if a relation is in BCNF\n",
    "    '''\n",
    "    R = getRelations()\n",
    "    superkeys = getSuperKeys(R, FDS)\n",
    "\n",
    "    for FD in FDS:\n",
    "        rhs = FD[1]\n",
    "        lhs = FD[0]\n",
    "        #print(lhs)\n",
    "        if ((CK or superkeys) not in lhs):\n",
    "            print(\"\\t\", lhs, \"->\", rhs, \"breaks BCNNF requirements (\", lhs, \"is non-superkey )\")\n",
    "            return False\n",
    "\n",
    "    return True"
   ]
  },
  {
   "cell_type": "code",
   "execution_count": null,
   "id": "f19ab3ee",
   "metadata": {},
   "outputs": [
    {
     "ename": "",
     "evalue": "",
     "output_type": "error",
     "traceback": [
      "\u001b[1;31mRunning cells with 'c:\\Users\\nisha\\AppData\\Local\\Programs\\Python\\Python39\\python.exe' requires the ipykernel package.\n",
      "\u001b[1;31mRun the following command to install 'ipykernel' into the Python environment. \n",
      "\u001b[1;31mCommand: 'c:/Users/nisha/AppData/Local/Programs/Python/Python39/python.exe -m pip install ipykernel -U --user --force-reinstall'"
     ]
    }
   ],
   "source": [
    "def exe(FDS, CK):\n",
    "    print(f\"Candidate Key is : {CK}\")\n",
    "    print(f\"Functional Dependencies are : {FDS}\")\n",
    "    #verify1NF()\n",
    "    if(is2NF(FDS, CK)):\n",
    "        print(\"Relation is in 2 Normal Form.\")\n",
    "        if(is3NF(FDS, CK)):\n",
    "            print(\"Relation is in 3 Normal Form.\")\n",
    "            if(isBCNF(FDS, CK)):\n",
    "                print(\"Relation is in BCNF Normal Form.\")\n",
    "    \n",
    "FDS = MainCode()\n",
    "CK = fetchCK()[0]    \n",
    "exe(FDS, CK)"
   ]
  }
 ],
 "metadata": {
  "kernelspec": {
   "display_name": "Python 3",
   "language": "python",
   "name": "python3"
  },
  "language_info": {
   "codemirror_mode": {
    "name": "ipython",
    "version": 3
   },
   "file_extension": ".py",
   "mimetype": "text/x-python",
   "name": "python",
   "nbconvert_exporter": "python",
   "pygments_lexer": "ipython3",
   "version": "3.9.13"
  }
 },
 "nbformat": 4,
 "nbformat_minor": 5
}
